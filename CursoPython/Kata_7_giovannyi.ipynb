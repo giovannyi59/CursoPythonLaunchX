{
 "cells": [
  {
   "cell_type": "markdown",
   "metadata": {},
   "source": [
    "### Ejercicio 1: Creación de un bucle \"while\"\n",
    "### Ejercicio 1: Uso de ciclos ``while`` en Python\n",
    "En este ejercicio, estamos creando una aplicación que solicita a un usuario que ingrese una lista de planetas. En un ejercicio posterior, agregaremos código que muestre la lista. Por ahora, crearemos solo el código que solicita al usuario la lista de planetas.\n",
    "Comenzamos agregando dos variables, una para la entrada del usuario, con el nombre new_planet, y otra variable para la lista de planetas, denominada planets."
   ]
  },
  {
   "cell_type": "code",
   "execution_count": null,
   "metadata": {},
   "outputs": [],
   "source": [
    "# Declara dos variables\n",
    "\n",
    "new_planet = ''\n",
    "planets = []"
   ]
  },
  {
   "cell_type": "markdown",
   "metadata": {},
   "source": [
    "### Crea un ciclo ``while``\n",
    "\n",
    "Comenzando con las variables que acabamos de crear, crearás un ciclo ``while``. El ciclo ``while`` se ejecutará mientras el ``new_planet`` no sea igual a la palabra 'done'.\n",
    "\n",
    "Dentro del ciclo, comprobaremos si la variable ``new_planet`` contiene un valor, que debería ser el nombre de un planeta. Esta es una forma rápida de ver si el usuario ha introducido un valor. Si lo han hecho, el código agregará (``append``) ese valor a la variable ``planets``.\n",
    "\n",
    "Finalmente, usaremos ``input`` para solicitar al usuario que ingrese un nuevo nombre de planeta o que escriba done si ha terminado de ingresar nombres de planeta. Almacenará el valor de ``input`` en la variable ``new_planet``."
   ]
  },
  {
   "cell_type": "code",
   "execution_count": null,
   "metadata": {},
   "outputs": [],
   "source": [
    "# Escribe el ciclo while solicitado\n",
    "\n",
    "while new_planet.lower() != 'done':\n",
    "    if new_planet:\n",
    "        planets.append(new_planet)\n",
    "    new_planet = input('Enter a new planet ')"
   ]
  },
  {
   "cell_type": "markdown",
   "metadata": {},
   "source": [
    "## Ejercicio 2: Creación de un ciclo \"for\"\n",
    "### Ejercicio: - Ciclo para una lista\n",
    "\n",
    "En el ejercicio anterior, creamos un código para solicitar a los usuarios que introduzcan una lista de nombres de planetas. En este ejercicio, complementaremos la aplicación escribiendo código que muestre los nombres de esos planetas.\n",
    "\n",
    "### Mostrar la lista de los planetas\n",
    "La variable ``planets`` almacena los nombres de planeta que ha introducido un usuario. Ahora usarás un ciclo para mostrar esas entradas.\n",
    "\n",
    "Creamos un ciclo ``for`` para iterar sobre la lista ``planets``. Podemos usar como nombre de la variable ``planet`` para cada planeta. Dentro del ciclo ``for``, recuerda utilizar ``print`` para mostrar cada planet."
   ]
  },
  {
   "cell_type": "code",
   "execution_count": null,
   "metadata": {},
   "outputs": [],
   "source": [
    "# Escribe tu ciclo for para iterar en una lista de planetas\n",
    "\n",
    "for planet in planets:\n",
    "    print(planet)"
   ]
  }
 ],
 "metadata": {
  "interpreter": {
   "hash": "77eb55240731e6f778b517eafca4b04eded43c32b226cae7ca189cb5a3cc1b4d"
  },
  "kernelspec": {
   "display_name": "Python 3.10.2 64-bit",
   "language": "python",
   "name": "python3"
  },
  "language_info": {
   "codemirror_mode": {
    "name": "ipython",
    "version": 3
   },
   "file_extension": ".py",
   "mimetype": "text/x-python",
   "name": "python",
   "nbconvert_exporter": "python",
   "pygments_lexer": "ipython3",
   "version": "3.10.2"
  },
  "orig_nbformat": 4
 },
 "nbformat": 4,
 "nbformat_minor": 2
}
